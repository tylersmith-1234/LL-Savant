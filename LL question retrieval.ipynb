{
 "cells": [
  {
   "cell_type": "code",
   "execution_count": 2,
   "id": "0a22e2d8",
   "metadata": {},
   "outputs": [],
   "source": [
    "from bs4 import BeautifulSoup\n",
    "import configparser\n",
    "from requests import session\n",
    "import requests\n",
    "import json\n",
    "import pickle\n",
    "import pandas as pd"
   ]
  },
  {
   "cell_type": "code",
   "execution_count": 3,
   "id": "80e3c584",
   "metadata": {},
   "outputs": [],
   "source": [
    "LLHEADER = 'https://www.learnedleague.com'\n",
    "LOGINFILE = LLHEADER + '/ucp.php?mode=login'\n",
    "USER_DATA = LLHEADER + '/profiles/previous.php?%s'\n",
    "QHIST = LLHEADER + '/profiles/qhist.php?%s'\n",
    "MATCH_DATA = LLHEADER + '/match.php?%s'\n",
    "ONEDAYS = LLHEADER + '/oneday'\n",
    "STANDINGS = '/standings.php?'\n",
    "LLSTANDINGS = LLHEADER + STANDINGS\n",
    "ARUNDLE = LLSTANDINGS + '%d&A_%s'\n",
    "INPUTDATA = 'logindata.ini'\n",
    "TOTAL_MATCHES_PER_SEASON = 25"
   ]
  },
  {
   "cell_type": "code",
   "execution_count": 4,
   "id": "80be1b07",
   "metadata": {},
   "outputs": [],
   "source": [
    "def get_session():\n",
    "    \"\"\"\n",
    "    Read an ini file, establish a login session\n",
    "\n",
    "    Input:\n",
    "        inifile -- name of local ini file with control information\n",
    "\n",
    "    Returns: logged in requests session to be used in later operations\n",
    "    \"\"\"\n",
    "    config = configparser.ConfigParser()\n",
    "    config.read(INPUTDATA)\n",
    "    payload = {'login': 'Login'}\n",
    "    for attrib in ['username', 'password']:\n",
    "        payload[attrib] = config['DEFAULT'][attrib]\n",
    "    ses1 = requests.Session()\n",
    "    try:\n",
    "        loginfile = config['DEFAULT']['loginfile']\n",
    "    except KeyError:\n",
    "        loginfile = LOGINFILE\n",
    "    ses1.post(loginfile, data=payload)\n",
    "    return ses1"
   ]
  },
  {
   "cell_type": "code",
   "execution_count": 5,
   "id": "0b4c3f2e",
   "metadata": {},
   "outputs": [
    {
     "ename": "KeyboardInterrupt",
     "evalue": "",
     "output_type": "error",
     "traceback": [
      "\u001b[0;31m---------------------------------------------------------------------------\u001b[0m",
      "\u001b[0;31mKeyboardInterrupt\u001b[0m                         Traceback (most recent call last)",
      "\u001b[0;32m<ipython-input-5-7f4177942909>\u001b[0m in \u001b[0;36m<module>\u001b[0;34m\u001b[0m\n\u001b[0;32m----> 1\u001b[0;31m \u001b[0msess\u001b[0m \u001b[0;34m=\u001b[0m \u001b[0mget_session\u001b[0m\u001b[0;34m(\u001b[0m\u001b[0;34m)\u001b[0m\u001b[0;34m\u001b[0m\u001b[0;34m\u001b[0m\u001b[0m\n\u001b[0m\u001b[1;32m      2\u001b[0m \u001b[0msess\u001b[0m\u001b[0;34m\u001b[0m\u001b[0;34m\u001b[0m\u001b[0m\n",
      "\u001b[0;32m<ipython-input-4-f96ee46ab09c>\u001b[0m in \u001b[0;36mget_session\u001b[0;34m()\u001b[0m\n\u001b[1;32m     18\u001b[0m     \u001b[0;32mexcept\u001b[0m \u001b[0mKeyError\u001b[0m\u001b[0;34m:\u001b[0m\u001b[0;34m\u001b[0m\u001b[0;34m\u001b[0m\u001b[0m\n\u001b[1;32m     19\u001b[0m         \u001b[0mloginfile\u001b[0m \u001b[0;34m=\u001b[0m \u001b[0mLOGINFILE\u001b[0m\u001b[0;34m\u001b[0m\u001b[0;34m\u001b[0m\u001b[0m\n\u001b[0;32m---> 20\u001b[0;31m     \u001b[0mses1\u001b[0m\u001b[0;34m.\u001b[0m\u001b[0mpost\u001b[0m\u001b[0;34m(\u001b[0m\u001b[0mloginfile\u001b[0m\u001b[0;34m,\u001b[0m \u001b[0mdata\u001b[0m\u001b[0;34m=\u001b[0m\u001b[0mpayload\u001b[0m\u001b[0;34m)\u001b[0m\u001b[0;34m\u001b[0m\u001b[0;34m\u001b[0m\u001b[0m\n\u001b[0m\u001b[1;32m     21\u001b[0m     \u001b[0;32mreturn\u001b[0m \u001b[0mses1\u001b[0m\u001b[0;34m\u001b[0m\u001b[0;34m\u001b[0m\u001b[0m\n",
      "\u001b[0;32m/usr/local/anaconda3/lib/python3.8/site-packages/requests/sessions.py\u001b[0m in \u001b[0;36mpost\u001b[0;34m(self, url, data, json, **kwargs)\u001b[0m\n\u001b[1;32m    588\u001b[0m         \"\"\"\n\u001b[1;32m    589\u001b[0m \u001b[0;34m\u001b[0m\u001b[0m\n\u001b[0;32m--> 590\u001b[0;31m         \u001b[0;32mreturn\u001b[0m \u001b[0mself\u001b[0m\u001b[0;34m.\u001b[0m\u001b[0mrequest\u001b[0m\u001b[0;34m(\u001b[0m\u001b[0;34m'POST'\u001b[0m\u001b[0;34m,\u001b[0m \u001b[0murl\u001b[0m\u001b[0;34m,\u001b[0m \u001b[0mdata\u001b[0m\u001b[0;34m=\u001b[0m\u001b[0mdata\u001b[0m\u001b[0;34m,\u001b[0m \u001b[0mjson\u001b[0m\u001b[0;34m=\u001b[0m\u001b[0mjson\u001b[0m\u001b[0;34m,\u001b[0m \u001b[0;34m**\u001b[0m\u001b[0mkwargs\u001b[0m\u001b[0;34m)\u001b[0m\u001b[0;34m\u001b[0m\u001b[0;34m\u001b[0m\u001b[0m\n\u001b[0m\u001b[1;32m    591\u001b[0m \u001b[0;34m\u001b[0m\u001b[0m\n\u001b[1;32m    592\u001b[0m     \u001b[0;32mdef\u001b[0m \u001b[0mput\u001b[0m\u001b[0;34m(\u001b[0m\u001b[0mself\u001b[0m\u001b[0;34m,\u001b[0m \u001b[0murl\u001b[0m\u001b[0;34m,\u001b[0m \u001b[0mdata\u001b[0m\u001b[0;34m=\u001b[0m\u001b[0;32mNone\u001b[0m\u001b[0;34m,\u001b[0m \u001b[0;34m**\u001b[0m\u001b[0mkwargs\u001b[0m\u001b[0;34m)\u001b[0m\u001b[0;34m:\u001b[0m\u001b[0;34m\u001b[0m\u001b[0;34m\u001b[0m\u001b[0m\n",
      "\u001b[0;32m/usr/local/anaconda3/lib/python3.8/site-packages/requests/sessions.py\u001b[0m in \u001b[0;36mrequest\u001b[0;34m(self, method, url, params, data, headers, cookies, files, auth, timeout, allow_redirects, proxies, hooks, stream, verify, cert, json)\u001b[0m\n\u001b[1;32m    540\u001b[0m         }\n\u001b[1;32m    541\u001b[0m         \u001b[0msend_kwargs\u001b[0m\u001b[0;34m.\u001b[0m\u001b[0mupdate\u001b[0m\u001b[0;34m(\u001b[0m\u001b[0msettings\u001b[0m\u001b[0;34m)\u001b[0m\u001b[0;34m\u001b[0m\u001b[0;34m\u001b[0m\u001b[0m\n\u001b[0;32m--> 542\u001b[0;31m         \u001b[0mresp\u001b[0m \u001b[0;34m=\u001b[0m \u001b[0mself\u001b[0m\u001b[0;34m.\u001b[0m\u001b[0msend\u001b[0m\u001b[0;34m(\u001b[0m\u001b[0mprep\u001b[0m\u001b[0;34m,\u001b[0m \u001b[0;34m**\u001b[0m\u001b[0msend_kwargs\u001b[0m\u001b[0;34m)\u001b[0m\u001b[0;34m\u001b[0m\u001b[0;34m\u001b[0m\u001b[0m\n\u001b[0m\u001b[1;32m    543\u001b[0m \u001b[0;34m\u001b[0m\u001b[0m\n\u001b[1;32m    544\u001b[0m         \u001b[0;32mreturn\u001b[0m \u001b[0mresp\u001b[0m\u001b[0;34m\u001b[0m\u001b[0;34m\u001b[0m\u001b[0m\n",
      "\u001b[0;32m/usr/local/anaconda3/lib/python3.8/site-packages/requests/sessions.py\u001b[0m in \u001b[0;36msend\u001b[0;34m(self, request, **kwargs)\u001b[0m\n\u001b[1;32m    653\u001b[0m \u001b[0;34m\u001b[0m\u001b[0m\n\u001b[1;32m    654\u001b[0m         \u001b[0;31m# Send the request\u001b[0m\u001b[0;34m\u001b[0m\u001b[0;34m\u001b[0m\u001b[0;34m\u001b[0m\u001b[0m\n\u001b[0;32m--> 655\u001b[0;31m         \u001b[0mr\u001b[0m \u001b[0;34m=\u001b[0m \u001b[0madapter\u001b[0m\u001b[0;34m.\u001b[0m\u001b[0msend\u001b[0m\u001b[0;34m(\u001b[0m\u001b[0mrequest\u001b[0m\u001b[0;34m,\u001b[0m \u001b[0;34m**\u001b[0m\u001b[0mkwargs\u001b[0m\u001b[0;34m)\u001b[0m\u001b[0;34m\u001b[0m\u001b[0;34m\u001b[0m\u001b[0m\n\u001b[0m\u001b[1;32m    656\u001b[0m \u001b[0;34m\u001b[0m\u001b[0m\n\u001b[1;32m    657\u001b[0m         \u001b[0;31m# Total elapsed time of the request (approximately)\u001b[0m\u001b[0;34m\u001b[0m\u001b[0;34m\u001b[0m\u001b[0;34m\u001b[0m\u001b[0m\n",
      "\u001b[0;32m/usr/local/anaconda3/lib/python3.8/site-packages/requests/adapters.py\u001b[0m in \u001b[0;36msend\u001b[0;34m(self, request, stream, timeout, verify, cert, proxies)\u001b[0m\n\u001b[1;32m    437\u001b[0m         \u001b[0;32mtry\u001b[0m\u001b[0;34m:\u001b[0m\u001b[0;34m\u001b[0m\u001b[0;34m\u001b[0m\u001b[0m\n\u001b[1;32m    438\u001b[0m             \u001b[0;32mif\u001b[0m \u001b[0;32mnot\u001b[0m \u001b[0mchunked\u001b[0m\u001b[0;34m:\u001b[0m\u001b[0;34m\u001b[0m\u001b[0;34m\u001b[0m\u001b[0m\n\u001b[0;32m--> 439\u001b[0;31m                 resp = conn.urlopen(\n\u001b[0m\u001b[1;32m    440\u001b[0m                     \u001b[0mmethod\u001b[0m\u001b[0;34m=\u001b[0m\u001b[0mrequest\u001b[0m\u001b[0;34m.\u001b[0m\u001b[0mmethod\u001b[0m\u001b[0;34m,\u001b[0m\u001b[0;34m\u001b[0m\u001b[0;34m\u001b[0m\u001b[0m\n\u001b[1;32m    441\u001b[0m                     \u001b[0murl\u001b[0m\u001b[0;34m=\u001b[0m\u001b[0murl\u001b[0m\u001b[0;34m,\u001b[0m\u001b[0;34m\u001b[0m\u001b[0;34m\u001b[0m\u001b[0m\n",
      "\u001b[0;32m/usr/local/anaconda3/lib/python3.8/site-packages/urllib3/connectionpool.py\u001b[0m in \u001b[0;36murlopen\u001b[0;34m(self, method, url, body, headers, retries, redirect, assert_same_host, timeout, pool_timeout, release_conn, chunked, body_pos, **response_kw)\u001b[0m\n\u001b[1;32m    697\u001b[0m \u001b[0;34m\u001b[0m\u001b[0m\n\u001b[1;32m    698\u001b[0m             \u001b[0;31m# Make the request on the httplib connection object.\u001b[0m\u001b[0;34m\u001b[0m\u001b[0;34m\u001b[0m\u001b[0;34m\u001b[0m\u001b[0m\n\u001b[0;32m--> 699\u001b[0;31m             httplib_response = self._make_request(\n\u001b[0m\u001b[1;32m    700\u001b[0m                 \u001b[0mconn\u001b[0m\u001b[0;34m,\u001b[0m\u001b[0;34m\u001b[0m\u001b[0;34m\u001b[0m\u001b[0m\n\u001b[1;32m    701\u001b[0m                 \u001b[0mmethod\u001b[0m\u001b[0;34m,\u001b[0m\u001b[0;34m\u001b[0m\u001b[0;34m\u001b[0m\u001b[0m\n",
      "\u001b[0;32m/usr/local/anaconda3/lib/python3.8/site-packages/urllib3/connectionpool.py\u001b[0m in \u001b[0;36m_make_request\u001b[0;34m(self, conn, method, url, timeout, chunked, **httplib_request_kw)\u001b[0m\n\u001b[1;32m    380\u001b[0m         \u001b[0;31m# Trigger any extra validation we need to do.\u001b[0m\u001b[0;34m\u001b[0m\u001b[0;34m\u001b[0m\u001b[0;34m\u001b[0m\u001b[0m\n\u001b[1;32m    381\u001b[0m         \u001b[0;32mtry\u001b[0m\u001b[0;34m:\u001b[0m\u001b[0;34m\u001b[0m\u001b[0;34m\u001b[0m\u001b[0m\n\u001b[0;32m--> 382\u001b[0;31m             \u001b[0mself\u001b[0m\u001b[0;34m.\u001b[0m\u001b[0m_validate_conn\u001b[0m\u001b[0;34m(\u001b[0m\u001b[0mconn\u001b[0m\u001b[0;34m)\u001b[0m\u001b[0;34m\u001b[0m\u001b[0;34m\u001b[0m\u001b[0m\n\u001b[0m\u001b[1;32m    383\u001b[0m         \u001b[0;32mexcept\u001b[0m \u001b[0;34m(\u001b[0m\u001b[0mSocketTimeout\u001b[0m\u001b[0;34m,\u001b[0m \u001b[0mBaseSSLError\u001b[0m\u001b[0;34m)\u001b[0m \u001b[0;32mas\u001b[0m \u001b[0me\u001b[0m\u001b[0;34m:\u001b[0m\u001b[0;34m\u001b[0m\u001b[0;34m\u001b[0m\u001b[0m\n\u001b[1;32m    384\u001b[0m             \u001b[0;31m# Py2 raises this as a BaseSSLError, Py3 raises it as socket timeout.\u001b[0m\u001b[0;34m\u001b[0m\u001b[0;34m\u001b[0m\u001b[0;34m\u001b[0m\u001b[0m\n",
      "\u001b[0;32m/usr/local/anaconda3/lib/python3.8/site-packages/urllib3/connectionpool.py\u001b[0m in \u001b[0;36m_validate_conn\u001b[0;34m(self, conn)\u001b[0m\n\u001b[1;32m   1008\u001b[0m         \u001b[0;31m# Force connect early to allow us to validate the connection.\u001b[0m\u001b[0;34m\u001b[0m\u001b[0;34m\u001b[0m\u001b[0;34m\u001b[0m\u001b[0m\n\u001b[1;32m   1009\u001b[0m         \u001b[0;32mif\u001b[0m \u001b[0;32mnot\u001b[0m \u001b[0mgetattr\u001b[0m\u001b[0;34m(\u001b[0m\u001b[0mconn\u001b[0m\u001b[0;34m,\u001b[0m \u001b[0;34m\"sock\"\u001b[0m\u001b[0;34m,\u001b[0m \u001b[0;32mNone\u001b[0m\u001b[0;34m)\u001b[0m\u001b[0;34m:\u001b[0m  \u001b[0;31m# AppEngine might not have  `.sock`\u001b[0m\u001b[0;34m\u001b[0m\u001b[0;34m\u001b[0m\u001b[0m\n\u001b[0;32m-> 1010\u001b[0;31m             \u001b[0mconn\u001b[0m\u001b[0;34m.\u001b[0m\u001b[0mconnect\u001b[0m\u001b[0;34m(\u001b[0m\u001b[0;34m)\u001b[0m\u001b[0;34m\u001b[0m\u001b[0;34m\u001b[0m\u001b[0m\n\u001b[0m\u001b[1;32m   1011\u001b[0m \u001b[0;34m\u001b[0m\u001b[0m\n\u001b[1;32m   1012\u001b[0m         \u001b[0;32mif\u001b[0m \u001b[0;32mnot\u001b[0m \u001b[0mconn\u001b[0m\u001b[0;34m.\u001b[0m\u001b[0mis_verified\u001b[0m\u001b[0;34m:\u001b[0m\u001b[0;34m\u001b[0m\u001b[0;34m\u001b[0m\u001b[0m\n",
      "\u001b[0;32m/usr/local/anaconda3/lib/python3.8/site-packages/urllib3/connection.py\u001b[0m in \u001b[0;36mconnect\u001b[0;34m(self)\u001b[0m\n\u001b[1;32m    351\u001b[0m     \u001b[0;32mdef\u001b[0m \u001b[0mconnect\u001b[0m\u001b[0;34m(\u001b[0m\u001b[0mself\u001b[0m\u001b[0;34m)\u001b[0m\u001b[0;34m:\u001b[0m\u001b[0;34m\u001b[0m\u001b[0;34m\u001b[0m\u001b[0m\n\u001b[1;32m    352\u001b[0m         \u001b[0;31m# Add certificate verification\u001b[0m\u001b[0;34m\u001b[0m\u001b[0;34m\u001b[0m\u001b[0;34m\u001b[0m\u001b[0m\n\u001b[0;32m--> 353\u001b[0;31m         \u001b[0mconn\u001b[0m \u001b[0;34m=\u001b[0m \u001b[0mself\u001b[0m\u001b[0;34m.\u001b[0m\u001b[0m_new_conn\u001b[0m\u001b[0;34m(\u001b[0m\u001b[0;34m)\u001b[0m\u001b[0;34m\u001b[0m\u001b[0;34m\u001b[0m\u001b[0m\n\u001b[0m\u001b[1;32m    354\u001b[0m         \u001b[0mhostname\u001b[0m \u001b[0;34m=\u001b[0m \u001b[0mself\u001b[0m\u001b[0;34m.\u001b[0m\u001b[0mhost\u001b[0m\u001b[0;34m\u001b[0m\u001b[0;34m\u001b[0m\u001b[0m\n\u001b[1;32m    355\u001b[0m         \u001b[0mtls_in_tls\u001b[0m \u001b[0;34m=\u001b[0m \u001b[0;32mFalse\u001b[0m\u001b[0;34m\u001b[0m\u001b[0;34m\u001b[0m\u001b[0m\n",
      "\u001b[0;32m/usr/local/anaconda3/lib/python3.8/site-packages/urllib3/connection.py\u001b[0m in \u001b[0;36m_new_conn\u001b[0;34m(self)\u001b[0m\n\u001b[1;32m    167\u001b[0m \u001b[0;34m\u001b[0m\u001b[0m\n\u001b[1;32m    168\u001b[0m         \u001b[0;32mtry\u001b[0m\u001b[0;34m:\u001b[0m\u001b[0;34m\u001b[0m\u001b[0;34m\u001b[0m\u001b[0m\n\u001b[0;32m--> 169\u001b[0;31m             conn = connection.create_connection(\n\u001b[0m\u001b[1;32m    170\u001b[0m                 \u001b[0;34m(\u001b[0m\u001b[0mself\u001b[0m\u001b[0;34m.\u001b[0m\u001b[0m_dns_host\u001b[0m\u001b[0;34m,\u001b[0m \u001b[0mself\u001b[0m\u001b[0;34m.\u001b[0m\u001b[0mport\u001b[0m\u001b[0;34m)\u001b[0m\u001b[0;34m,\u001b[0m \u001b[0mself\u001b[0m\u001b[0;34m.\u001b[0m\u001b[0mtimeout\u001b[0m\u001b[0;34m,\u001b[0m \u001b[0;34m**\u001b[0m\u001b[0mextra_kw\u001b[0m\u001b[0;34m\u001b[0m\u001b[0;34m\u001b[0m\u001b[0m\n\u001b[1;32m    171\u001b[0m             )\n",
      "\u001b[0;32m/usr/local/anaconda3/lib/python3.8/site-packages/urllib3/util/connection.py\u001b[0m in \u001b[0;36mcreate_connection\u001b[0;34m(address, timeout, source_address, socket_options)\u001b[0m\n\u001b[1;32m     84\u001b[0m             \u001b[0;32mif\u001b[0m \u001b[0msource_address\u001b[0m\u001b[0;34m:\u001b[0m\u001b[0;34m\u001b[0m\u001b[0;34m\u001b[0m\u001b[0m\n\u001b[1;32m     85\u001b[0m                 \u001b[0msock\u001b[0m\u001b[0;34m.\u001b[0m\u001b[0mbind\u001b[0m\u001b[0;34m(\u001b[0m\u001b[0msource_address\u001b[0m\u001b[0;34m)\u001b[0m\u001b[0;34m\u001b[0m\u001b[0;34m\u001b[0m\u001b[0m\n\u001b[0;32m---> 86\u001b[0;31m             \u001b[0msock\u001b[0m\u001b[0;34m.\u001b[0m\u001b[0mconnect\u001b[0m\u001b[0;34m(\u001b[0m\u001b[0msa\u001b[0m\u001b[0;34m)\u001b[0m\u001b[0;34m\u001b[0m\u001b[0;34m\u001b[0m\u001b[0m\n\u001b[0m\u001b[1;32m     87\u001b[0m             \u001b[0;32mreturn\u001b[0m \u001b[0msock\u001b[0m\u001b[0;34m\u001b[0m\u001b[0;34m\u001b[0m\u001b[0m\n\u001b[1;32m     88\u001b[0m \u001b[0;34m\u001b[0m\u001b[0m\n",
      "\u001b[0;31mKeyboardInterrupt\u001b[0m: "
     ]
    }
   ],
   "source": [
    "sess = get_session()\n",
    "sess"
   ]
  },
  {
   "cell_type": "code",
   "execution_count": 16,
   "id": "3e8c496b",
   "metadata": {},
   "outputs": [
    {
     "ename": "AttributeError",
     "evalue": "'NoneType' object has no attribute 'find_all'",
     "output_type": "error",
     "traceback": [
      "\u001b[0;31m---------------------------------------------------------------------------\u001b[0m",
      "\u001b[0;31mAttributeError\u001b[0m                            Traceback (most recent call last)",
      "\u001b[1;32m/Users/tyler/OneDrive - Georgia Institute of Technology/LL/LL retrieval.ipynb Cell 8'\u001b[0m in \u001b[0;36m<cell line: 7>\u001b[0;34m()\u001b[0m\n\u001b[1;32m      <a href='vscode-notebook-cell:/Users/tyler/OneDrive%20-%20Georgia%20Institute%20of%20Technology/LL/LL%20retrieval.ipynb#ch0000004?line=3'>4</a>\u001b[0m soup \u001b[39m=\u001b[39m BeautifulSoup(html_text, \u001b[39m'\u001b[39m\u001b[39mhtml.parser\u001b[39m\u001b[39m'\u001b[39m)\n\u001b[1;32m      <a href='vscode-notebook-cell:/Users/tyler/OneDrive%20-%20Georgia%20Institute%20of%20Technology/LL/LL%20retrieval.ipynb#ch0000004?line=4'>5</a>\u001b[0m \u001b[39m# print(soup)\u001b[39;00m\n\u001b[0;32m----> <a href='vscode-notebook-cell:/Users/tyler/OneDrive%20-%20Georgia%20Institute%20of%20Technology/LL/LL%20retrieval.ipynb#ch0000004?line=6'>7</a>\u001b[0m qh \u001b[39m=\u001b[39m soup\u001b[39m.\u001b[39;49mfind(\u001b[39m'\u001b[39;49m\u001b[39mdiv\u001b[39;49m\u001b[39m'\u001b[39;49m, attrs\u001b[39m=\u001b[39;49m{\u001b[39m'\u001b[39;49m\u001b[39mclass\u001b[39;49m\u001b[39m'\u001b[39;49m: \u001b[39m'\u001b[39;49m\u001b[39mqhistory\u001b[39;49m\u001b[39m'\u001b[39;49m})\u001b[39m.\u001b[39;49mfind_all(\u001b[39m'\u001b[39m\u001b[39mul\u001b[39m\u001b[39m'\u001b[39m, attrs\u001b[39m=\u001b[39m{\u001b[39m'\u001b[39m\u001b[39mclass\u001b[39m\u001b[39m'\u001b[39m: \u001b[39m'\u001b[39m\u001b[39mmktree\u001b[39m\u001b[39m'\u001b[39m})\n\u001b[1;32m      <a href='vscode-notebook-cell:/Users/tyler/OneDrive%20-%20Georgia%20Institute%20of%20Technology/LL/LL%20retrieval.ipynb#ch0000004?line=7'>8</a>\u001b[0m qh\n",
      "\u001b[0;31mAttributeError\u001b[0m: 'NoneType' object has no attribute 'find_all'"
     ]
    }
   ],
   "source": [
    "# Personal profile & data can be found here.\n",
    "# main_data = sess.get('https://learnedleague.com/profiles.php?23168&9')\n",
    "# html_text = main_data.text\n",
    "# soup = BeautifulSoup(html_text, 'html.parser')\n",
    "# # print(soup)\n",
    "\n",
    "# qh = soup.find('div', attrs={'class': 'qhistory'}).find_all('ul', attrs={'class': 'mktree'})\n",
    "# qh"
   ]
  },
  {
   "cell_type": "code",
   "execution_count": 8,
   "id": "0fd366da",
   "metadata": {},
   "outputs": [],
   "source": [
    "# class Question:\n",
    "#     def __init__(self, text, category, season, day, qnum, correct) -> None:\n",
    "#         self.text = text\n",
    "#         self.category = category\n",
    "#         self.season = season\n",
    "#         self.day = day\n",
    "#         self.qnum = qnum\n",
    "#         self.correct = correct"
   ]
  },
  {
   "cell_type": "code",
   "execution_count": 109,
   "id": "1a6c0a5c",
   "metadata": {},
   "outputs": [
    {
     "name": "stdout",
     "output_type": "stream",
     "text": [
      "[<span class=\"catname\">AMER HIST</span>]\n",
      "[<span class=\"catname\">ART</span>]\n",
      "[<span class=\"catname\">BUS/ECON</span>]\n",
      "[<span class=\"catname\">CLASS MUSIC</span>]\n",
      "[<span class=\"catname\">CURR EVENTS</span>]\n",
      "[<span class=\"catname\">FILM</span>]\n",
      "[<span class=\"catname\">FOOD/DRINK</span>]\n",
      "[<span class=\"catname\">GAMES/SPORT</span>]\n",
      "[<span class=\"catname\">GEOGRAPHY</span>]\n",
      "[<span class=\"catname\">LANGUAGE</span>]\n",
      "[<span class=\"catname\">LIFESTYLE</span>]\n",
      "[<span class=\"catname\">LITERATURE</span>]\n",
      "[<span class=\"catname\">MATH</span>]\n",
      "[<span class=\"catname\">POP MUSIC</span>]\n",
      "[<span class=\"catname\">SCIENCE</span>]\n",
      "[<span class=\"catname\">TELEVISION</span>]\n",
      "[<span class=\"catname\">THEATRE</span>]\n",
      "[<span class=\"catname\">WORLD HIST</span>]\n"
     ]
    }
   ],
   "source": [
    "# q_arr = []\n",
    "# for q_cat in qh:\n",
    "#     catarr = q_cat.find_all('span', attrs={'class': 'catname'})\n",
    "#     print(catarr)\n",
    "#     if len(catarr) == 1:\n",
    "#         category = q_cat.find('span', attrs={'class': 'catname'}).text\n",
    "#         rows = q_cat.find('table', attrs={'class': 'qh'}).find_all('tr')[1:]\n",
    "#         for q in rows:\n",
    "#             md, txt, correct = q.find_all('td')\n",
    "#             season, day, qnum = md.find_all('a')\n",
    "#             season = int(season.text[2:])\n",
    "#             day = int(day.text[2:])\n",
    "#             qnum = int(qnum.text[1])\n",
    "#             txt = txt.text\n",
    "#             correct = True if correct['class'][1] == 'g' else False\n",
    "#             q_arr.append(Question(txt, category, season, day, qnum, correct))"
   ]
  },
  {
   "cell_type": "code",
   "execution_count": 113,
   "id": "540a5620",
   "metadata": {},
   "outputs": [
    {
     "data": {
      "text/plain": [
       "{'text': 'A group of women living in and around the Gee\\'s Bend hamlet in the Black Belt of Alabama are renowned for their works of art using what specific medium—a medium that is also referenced in the title of a 1985 piece by American artist Faith Ringgold, \"Street Story <Redacted>\"?',\n",
       " 'category': 'ART',\n",
       " 'season': 88,\n",
       " 'day': 6,\n",
       " 'qnum': 2,\n",
       " 'correct': False}"
      ]
     },
     "execution_count": 113,
     "metadata": {},
     "output_type": "execute_result"
    }
   ],
   "source": [
    "q_arr[98].__dict__"
   ]
  },
  {
   "cell_type": "code",
   "execution_count": 114,
   "id": "99b7abf4",
   "metadata": {},
   "outputs": [],
   "source": [
    "dicts = [q.__dict__ for q in q_arr]\n",
    "with open('my_q_history.json', 'w') as f:\n",
    "    json.dump(dicts, f)"
   ]
  },
  {
   "cell_type": "code",
   "execution_count": null,
   "id": "e0231f4b",
   "metadata": {},
   "outputs": [],
   "source": [
    "class Question:\n",
    "    def __init__(self, text, category, season, day, qnum, correct) -> None:\n",
    "        self.text = text\n",
    "        self.category = category\n",
    "        self.season = season\n",
    "        self.day = day\n",
    "        self.qnum = qnum\n",
    "        self.correct = correct\n",
    "full_question_history = []"
   ]
  },
  {
   "cell_type": "code",
   "execution_count": 7,
   "id": "5c49d0cb",
   "metadata": {},
   "outputs": [],
   "source": [
    "# Get the questions and answers for each matchday in past seasons.\n",
    "question_history = dict() # format: {season-md-qnum  (str): {\n",
    "#  season: int, matchday: int, qnum: int, question: str, answer: str, category: str, forfeit: float, tot_correct: int\n",
    "#   A_correct: int, B_correct: int, C_correct: int, D_correct: int, E_correct: int, R_correct: int, defense: float\n",
    "# }}\n",
    "# a dict of dicts.\n",
    "def get_question(season: int, md: int) -> dict:\n",
    "    if not isinstance(season, int) or not 52 <= season <= 92:\n",
    "        print('valid seasons are integer 52-92')\n",
    "        return\n",
    "    elif not isinstance(md, int) or not 1 <= md <= 25:\n",
    "        print('valid matchdays are integers 1-25')\n",
    "        return\n",
    "    # early template (seasons 52-56): https://learnedleague.com/ll55/questions/md01.php\n",
    "    # late template (seasons 57-present): https://learnedleague.com/match.php?60&1\n",
    "    if season <= 56:\n",
    "        url = f\"https://learnedleague.com/ll{season}/questions/md{str(md).zfill(2)}.php\"\n",
    "    else:\n",
    "        url = f\"https://learnedleague.com/match.php?{season}&{md}\"\n",
    "    main_data = sess.get(url)\n",
    "    html_text = main_data.text\n",
    "    soup = BeautifulSoup(html_text, 'html.parser')\n",
    "    qs = soup.findAll('div', attrs={'class': 'ind-Q20'})\n",
    "    # anss = soup.findAll('div', attrs={'class': 'answer3'})\n",
    "\n",
    "    for idx, q in enumerate(qs[:6]):\n",
    "        txt = q.text\n",
    "        # qnum = int(txt[2])\n",
    "        qnum = idx + 1\n",
    "        txt = txt[4:].strip()\n",
    "        cat = txt.split('-')[0].strip()\n",
    "        txt = '-'.join(txt.split('-')[1:]).strip()\n",
    "        extra = ''\n",
    "        if season > 56: extra = '1'\n",
    "        elif idx >= 6: extra = str(idx//6 + 1)\n",
    "        ans = soup.find('div', attrs={'id': f\"Q{idx%6+1}{extra}ANS\"}).text.strip()\n",
    "        # if season <= 55:\n",
    "        #     ans = soup.find('div', attrs={'id': f\"Q{idx+1}ANS\"}).text.strip()\n",
    "        # else:\n",
    "        #     ans = soup.find('div', attrs={'id': f\"Q{idx+1}1ANS\"}).text.strip()\n",
    "            # ans = anss[idx].text.split('\\n\\t')[1].strip()\n",
    "        question_history[f\"{season}-{md}-{qnum}\"] = {\n",
    "            'season': season, 'matchday': md, 'qnum': qnum, 'question': txt, 'answer': ans, 'category': cat\n",
    "        }\n",
    "    if season >= 60: # newer seasons\n",
    "        metrics = soup.find('div', attrs={'id': 'rght'})\n",
    "        for lvl in ['A', 'B', 'C', 'D', 'E', 'R']:\n",
    "            lvl_data = [x.text for x in metrics.findAll('td', attrs={'class': f'level{lvl}'})]\n",
    "            for idx in range(1,7):\n",
    "                question_history[f\"{season}-{md}-{idx}\"][f\"{lvl}_correct\"] = int(lvl_data[idx+1])\n",
    "        leaguewide, defense = metrics.find('tfoot').findAll('tr')\n",
    "        leaguewide, defense = leaguewide.findAll('td'), defense.findAll('td')\n",
    "        for idx in range(1,7):\n",
    "            question_history[f\"{season}-{md}-{idx}\"]['tot_correct'] = int(leaguewide[idx+1].text)\n",
    "            question_history[f\"{season}-{md}-{idx}\"]['forfeit'] = float(leaguewide[1].text)\n",
    "            question_history[f\"{season}-{md}-{idx}\"]['defense'] = float(defense[idx+1].text)\n",
    "    else:\n",
    "        for row in soup.find('table', attrs={'class': 'ind-boxATbl2'}).findAll('tr'):\n",
    "            row = [x.text.strip() for x in row.findAll('td')]\n",
    "            if row[0].startswith('All ') and (len(row[0]) == 5 or row[0].endswith('(Class 1)')):\n",
    "                for idx in range(1,7):\n",
    "                    question_history[f\"{season}-{md}-{idx}\"][f\"{row[0][4]}_correct\"] = int(row[idx+1])\n",
    "            elif row[0] == 'Totals' or row[0] == 'Leaguewide' or row[0] == 'Leaguewide: Class 1':\n",
    "                for idx in range(1,7):\n",
    "                    question_history[f\"{season}-{md}-{idx}\"][\"tot_correct\"] = int(row[idx+1])\n",
    "                    question_history[f\"{season}-{md}-{idx}\"][\"forfeit\"] = float(row[1])\n",
    "            elif row[0] == 'Defense' or row[0] == 'Defense: Class 1':\n",
    "                for idx in range(1,7):\n",
    "                    question_history[f\"{season}-{md}-{idx}\"][\"defense\"] = float(row[idx+1])\n",
    "    return { x: question_history[f\"{season}-{md}-{x}\"] for x in range(1,7)}\n",
    "# ans = soup.find('div', attrs={'id': 'xyz'}).text.strip()\n",
    "# level_stats = [row.find_all('td') for row in \n",
    "#     soup.find('table', attrs={'class': 'MDTable sortable'}).findAll('tr')[1:]]\n",
    "# d = {str(lvl.text): int(pct.text) for lvl, pct in level_stats}\n",
    "# q\n"
   ]
  },
  {
   "cell_type": "code",
   "execution_count": 256,
   "id": "72abc7e3",
   "metadata": {},
   "outputs": [
    {
     "name": "stdout",
     "output_type": "stream",
     "text": [
      "done with season 52\n",
      "done with season 53\n",
      "done with season 54\n",
      "done with season 55\n",
      "done with season 56\n",
      "done with season 57\n",
      "done with season 58\n",
      "done with season 59\n",
      "done with season 60\n",
      "done with season 61\n",
      "done with season 62\n",
      "done with season 63\n",
      "done with season 64\n",
      "done with season 65\n",
      "done with season 66\n",
      "done with season 67\n",
      "done with season 68\n",
      "done with season 69\n",
      "done with season 70\n",
      "done with season 71\n",
      "done with season 72\n",
      "done with season 73\n",
      "done with season 74\n",
      "done with season 75\n",
      "done with season 76\n",
      "done with season 77\n",
      "done with season 78\n",
      "done with season 79\n",
      "done with season 80\n",
      "done with season 81\n",
      "done with season 82\n",
      "done with season 83\n",
      "done with season 84\n",
      "done with season 85\n",
      "done with season 86\n",
      "done with season 87\n",
      "done with season 88\n",
      "done with season 89\n",
      "done with season 90\n",
      "done with season 91\n",
      "done with season 92\n"
     ]
    }
   ],
   "source": [
    "for seas in range(52, 93): # getting questions from seasons 52-92\n",
    "    for day in range(1, 26): # matchdays 1-25\n",
    "        get_question(seas, day)\n",
    "    print(f\"done with season {seas}\")"
   ]
  },
  {
   "cell_type": "code",
   "execution_count": 259,
   "id": "d723e2b9",
   "metadata": {},
   "outputs": [],
   "source": [
    "with open('questions.pkl', 'wb') as fp:\n",
    "    pickle.dump(question_history, fp, protocol=pickle.HIGHEST_PROTOCOL)"
   ]
  },
  {
   "cell_type": "code",
   "execution_count": 4,
   "id": "79ab6c2b",
   "metadata": {},
   "outputs": [],
   "source": [
    "with open('questions.pkl', 'rb') as fp:\n",
    "    question_history = pickle.load(fp)"
   ]
  },
  {
   "cell_type": "code",
   "execution_count": 5,
   "id": "a1660caf",
   "metadata": {},
   "outputs": [
    {
     "data": {
      "text/html": [
       "<div>\n",
       "<style scoped>\n",
       "    .dataframe tbody tr th:only-of-type {\n",
       "        vertical-align: middle;\n",
       "    }\n",
       "\n",
       "    .dataframe tbody tr th {\n",
       "        vertical-align: top;\n",
       "    }\n",
       "\n",
       "    .dataframe thead th {\n",
       "        text-align: right;\n",
       "    }\n",
       "</style>\n",
       "<table border=\"1\" class=\"dataframe\">\n",
       "  <thead>\n",
       "    <tr style=\"text-align: right;\">\n",
       "      <th></th>\n",
       "      <th>season</th>\n",
       "      <th>matchday</th>\n",
       "      <th>qnum</th>\n",
       "      <th>question</th>\n",
       "      <th>answer</th>\n",
       "      <th>category</th>\n",
       "      <th>A_correct</th>\n",
       "      <th>B_correct</th>\n",
       "      <th>C_correct</th>\n",
       "      <th>D_correct</th>\n",
       "      <th>E_correct</th>\n",
       "      <th>R_correct</th>\n",
       "      <th>tot_correct</th>\n",
       "      <th>forfeit</th>\n",
       "      <th>defense</th>\n",
       "    </tr>\n",
       "  </thead>\n",
       "  <tbody>\n",
       "    <tr>\n",
       "      <th>92-19-1</th>\n",
       "      <td>92</td>\n",
       "      <td>19</td>\n",
       "      <td>1</td>\n",
       "      <td>When ground into a paste and served with sushi...</td>\n",
       "      <td>WASABI</td>\n",
       "      <td>FOOD/DRINK</td>\n",
       "      <td>99</td>\n",
       "      <td>99</td>\n",
       "      <td>99</td>\n",
       "      <td>98</td>\n",
       "      <td>97</td>\n",
       "      <td>97</td>\n",
       "      <td>98</td>\n",
       "      <td>3.1</td>\n",
       "      <td>0.2</td>\n",
       "    </tr>\n",
       "  </tbody>\n",
       "</table>\n",
       "</div>"
      ],
      "text/plain": [
       "         season  matchday  qnum  \\\n",
       "92-19-1      92        19     1   \n",
       "\n",
       "                                                  question  answer  \\\n",
       "92-19-1  When ground into a paste and served with sushi...  WASABI   \n",
       "\n",
       "           category  A_correct  B_correct  C_correct  D_correct  E_correct  \\\n",
       "92-19-1  FOOD/DRINK         99         99         99         98         97   \n",
       "\n",
       "         R_correct  tot_correct  forfeit  defense  \n",
       "92-19-1         97           98      3.1      0.2  "
      ]
     },
     "execution_count": 5,
     "metadata": {},
     "output_type": "execute_result"
    }
   ],
   "source": [
    "df = pd.DataFrame.from_dict(question_history, orient='index')\n",
    "df.loc[['92-19-1']]"
   ]
  }
 ],
 "metadata": {
  "interpreter": {
   "hash": "3067ead486e059ec00ffe7555bdb889e6e264a24dc711bf108106cc7baee8d5d"
  },
  "kernelspec": {
   "display_name": "Python 3.8.8 ('base')",
   "language": "python",
   "name": "python3"
  },
  "language_info": {
   "codemirror_mode": {
    "name": "ipython",
    "version": 3
   },
   "file_extension": ".py",
   "mimetype": "text/x-python",
   "name": "python",
   "nbconvert_exporter": "python",
   "pygments_lexer": "ipython3",
   "version": "3.8.8"
  }
 },
 "nbformat": 4,
 "nbformat_minor": 5
}
